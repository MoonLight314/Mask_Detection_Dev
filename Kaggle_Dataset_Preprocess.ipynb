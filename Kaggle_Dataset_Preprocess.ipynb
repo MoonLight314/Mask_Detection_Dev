{
 "cells": [
  {
   "cell_type": "code",
   "execution_count": 4,
   "id": "631f3715",
   "metadata": {},
   "outputs": [],
   "source": [
    "import pandas as pd\n",
    "import xml.etree.ElementTree as et\n",
    "from tqdm import tqdm\n",
    "import os"
   ]
  },
  {
   "cell_type": "code",
   "execution_count": 7,
   "id": "796967c0",
   "metadata": {},
   "outputs": [
    {
     "name": "stderr",
     "output_type": "stream",
     "text": [
      "1it [00:00, 71.62it/s]"
     ]
    },
    {
     "name": "stdout",
     "output_type": "stream",
     "text": [
      "853\n"
     ]
    },
    {
     "name": "stderr",
     "output_type": "stream",
     "text": [
      "\n"
     ]
    }
   ],
   "source": [
    "dir_path = \"./Dataset/Face_Mask_Detection_Dataset_Kaggle/annotations/\"\n",
    "data_file_path = []\n",
    "\n",
    "for (root, directories, files) in tqdm(os.walk(dir_path)):\n",
    "    for file in files:\n",
    "        if '.xml' in file:\n",
    "            file_path = os.path.join(root, file)\n",
    "            data_file_path.append( file_path )\n",
    "\n",
    "\n",
    "print( len(data_file_path) )"
   ]
  },
  {
   "cell_type": "code",
   "execution_count": 8,
   "id": "99f89986",
   "metadata": {},
   "outputs": [
    {
     "data": {
      "text/plain": [
       "'./Dataset/Face_Mask_Detection_Dataset_Kaggle/annotations/maksssksksss0.xml'"
      ]
     },
     "execution_count": 8,
     "metadata": {},
     "output_type": "execute_result"
    }
   ],
   "source": [
    "data_file_path[0]"
   ]
  },
  {
   "cell_type": "code",
   "execution_count": 10,
   "id": "781f7db2",
   "metadata": {},
   "outputs": [],
   "source": [
    "xtree=et.parse( data_file_path[0] )\n",
    "xroot=xtree.getroot()"
   ]
  },
  {
   "cell_type": "code",
   "execution_count": 18,
   "id": "d85c3c1c",
   "metadata": {},
   "outputs": [
    {
     "ename": "SyntaxError",
     "evalue": "invalid syntax (<ipython-input-18-3f7f8a4fc3d0>, line 1)",
     "output_type": "error",
     "traceback": [
      "\u001b[1;36m  File \u001b[1;32m\"<ipython-input-18-3f7f8a4fc3d0>\"\u001b[1;36m, line \u001b[1;32m1\u001b[0m\n\u001b[1;33m    xroot.attrib.items()[]\u001b[0m\n\u001b[1;37m                         ^\u001b[0m\n\u001b[1;31mSyntaxError\u001b[0m\u001b[1;31m:\u001b[0m invalid syntax\n"
     ]
    }
   ],
   "source": [
    "xroot.attrib.items()"
   ]
  },
  {
   "cell_type": "code",
   "execution_count": null,
   "id": "3b3446cc",
   "metadata": {},
   "outputs": [],
   "source": [
    "for node in xroot:\n",
    "    s_name=node.attrib.get(\"name\")\n",
    "    s_mail=node.find(\"email\").text if node is not None else None\n",
    "    s_grade=node.find(\"grade\").text if node is not None else None\n",
    "    s_age=node.find(\"age\").text if node is not None else None\n",
    "    \n",
    "    rows.append({\"name\":s_name, \"email\":s_mail,\"grade\":s_grade, \"age\" : s_age})"
   ]
  }
 ],
 "metadata": {
  "kernelspec": {
   "display_name": "TF.2.5.0-GPU",
   "language": "python",
   "name": "tf.2.5.0-gpu"
  },
  "language_info": {
   "codemirror_mode": {
    "name": "ipython",
    "version": 3
   },
   "file_extension": ".py",
   "mimetype": "text/x-python",
   "name": "python",
   "nbconvert_exporter": "python",
   "pygments_lexer": "ipython3",
   "version": "3.9.5"
  }
 },
 "nbformat": 4,
 "nbformat_minor": 5
}
